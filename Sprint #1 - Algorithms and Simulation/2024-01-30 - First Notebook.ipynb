{
 "cells": [
  {
   "cell_type": "markdown",
   "id": "a2adbd76-ff16-465f-b01d-452b85371bcd",
   "metadata": {},
   "source": [
    "# Header\n",
    "\n",
    "## Subheading\n",
    "\n",
    "some text.\n",
    "\n",
    "### sub sub heading\n",
    "\n",
    "## another subheading\n",
    "\n",
    "I can do **bold** and *italic*.  Even equations (use LaTeX format):\n",
    "\n",
    "$$\n",
    "E=mc^2 \\times \\sqrt{\\frac{1}{1-v^2/c^2}}\n",
    "$$\n"
   ]
  },
  {
   "cell_type": "code",
   "execution_count": 1,
   "id": "df8eecfe-f043-44bf-89a9-ef5535a7006c",
   "metadata": {},
   "outputs": [],
   "source": [
    "a=5"
   ]
  },
  {
   "cell_type": "code",
   "execution_count": 2,
   "id": "4fef8754-5708-4e17-923b-2e4485a83f7d",
   "metadata": {},
   "outputs": [
    {
     "data": {
      "text/plain": [
       "5"
      ]
     },
     "execution_count": 2,
     "metadata": {},
     "output_type": "execute_result"
    }
   ],
   "source": [
    "a"
   ]
  },
  {
   "cell_type": "code",
   "execution_count": 3,
   "id": "0628e111-1645-416b-986c-2102be913464",
   "metadata": {},
   "outputs": [
    {
     "data": {
      "text/plain": [
       "15"
      ]
     },
     "execution_count": 3,
     "metadata": {},
     "output_type": "execute_result"
    }
   ],
   "source": [
    "b=10\n",
    "a+b"
   ]
  },
  {
   "cell_type": "code",
   "execution_count": 4,
   "id": "5176717c-2701-43fc-b073-06c9f31a7c9d",
   "metadata": {},
   "outputs": [
    {
     "data": {
      "text/plain": [
       "50"
      ]
     },
     "execution_count": 4,
     "metadata": {},
     "output_type": "execute_result"
    }
   ],
   "source": [
    "a*b"
   ]
  },
  {
   "cell_type": "markdown",
   "id": "d7972d6c-9836-4df8-90bd-9601c6a2829d",
   "metadata": {},
   "source": [
    "Exponents use ** not ^"
   ]
  },
  {
   "cell_type": "code",
   "execution_count": 5,
   "id": "06fa961a-e585-465d-89ed-66f45b5812ba",
   "metadata": {},
   "outputs": [
    {
     "data": {
      "text/plain": [
       "81"
      ]
     },
     "execution_count": 5,
     "metadata": {},
     "output_type": "execute_result"
    }
   ],
   "source": [
    "3**4"
   ]
  },
  {
   "cell_type": "code",
   "execution_count": 6,
   "id": "593e0a95-db44-414b-9dcd-2fa08a5b34f4",
   "metadata": {},
   "outputs": [
    {
     "data": {
      "text/plain": [
       "7"
      ]
     },
     "execution_count": 6,
     "metadata": {},
     "output_type": "execute_result"
    }
   ],
   "source": [
    "3^4  # gives a weird answer and is not an exponent"
   ]
  },
  {
   "cell_type": "code",
   "execution_count": 7,
   "id": "d5328f8f-5f2e-4e66-b0a0-0e7efb3fd6ce",
   "metadata": {},
   "outputs": [
    {
     "data": {
      "text/plain": [
       "5"
      ]
     },
     "execution_count": 7,
     "metadata": {},
     "output_type": "execute_result"
    }
   ],
   "source": [
    "a"
   ]
  },
  {
   "cell_type": "code",
   "execution_count": 8,
   "id": "d2441816-a741-40fb-b48f-6795cb72e68c",
   "metadata": {},
   "outputs": [],
   "source": [
    "a=a+1"
   ]
  },
  {
   "cell_type": "code",
   "execution_count": 9,
   "id": "8bd39e07-9f4c-4bc1-b1e4-7969896a5e17",
   "metadata": {},
   "outputs": [
    {
     "data": {
      "text/plain": [
       "6"
      ]
     },
     "execution_count": 9,
     "metadata": {},
     "output_type": "execute_result"
    }
   ],
   "source": [
    "a"
   ]
  },
  {
   "cell_type": "code",
   "execution_count": 11,
   "id": "f66627f2-45cc-4691-b767-7d56864a3d1e",
   "metadata": {},
   "outputs": [
    {
     "data": {
      "text/plain": [
       "5768"
      ]
     },
     "execution_count": 11,
     "metadata": {},
     "output_type": "execute_result"
    }
   ],
   "source": [
    "bob=56\n",
    "sally=103\n",
    "bob*sally"
   ]
  },
  {
   "cell_type": "code",
   "execution_count": 13,
   "id": "1bff0638-3911-412a-8708-f4cccc327a6f",
   "metadata": {},
   "outputs": [
    {
     "name": "stdout",
     "output_type": "stream",
     "text": [
      "here\n",
      "0\n",
      "hello\n",
      "another\n",
      "1\n",
      "hello\n",
      "another\n",
      "2\n",
      "hello\n",
      "another\n",
      "3\n",
      "hello\n",
      "another\n",
      "4\n",
      "hello\n",
      "another\n",
      "5\n",
      "hello\n",
      "another\n",
      "6\n",
      "hello\n",
      "another\n",
      "7\n",
      "hello\n",
      "another\n",
      "8\n",
      "hello\n",
      "another\n",
      "9\n",
      "hello\n",
      "another\n",
      "there\n"
     ]
    }
   ],
   "source": [
    "print(\"here\")\n",
    "for i in range(10):\n",
    "    print(i)\n",
    "    print(\"hello\")\n",
    "\n",
    "    print(\"another\")\n",
    "\n",
    "print(\"there\")"
   ]
  },
  {
   "cell_type": "code",
   "execution_count": 14,
   "id": "3cca298b-c5fe-4783-badb-eb058cb4a9de",
   "metadata": {},
   "outputs": [
    {
     "name": "stdout",
     "output_type": "stream",
     "text": [
      "here\n",
      "0 hello\n",
      "1 hello\n",
      "2 hello\n",
      "3 hello\n",
      "4 hello\n",
      "5 hello\n",
      "6 hello\n",
      "7 hello\n",
      "8 hello\n",
      "9 hello\n",
      "there\n"
     ]
    }
   ],
   "source": [
    "print(\"here\")\n",
    "for bob in range(10):\n",
    "    print(bob,\"hello\")\n",
    "\n",
    "print(\"there\")"
   ]
  },
  {
   "cell_type": "code",
   "execution_count": 16,
   "id": "8d57d0e3-c51f-4a36-aacf-9fb6253728fd",
   "metadata": {},
   "outputs": [
    {
     "name": "stdout",
     "output_type": "stream",
     "text": [
      "before 0\n",
      "after 0\n",
      "before 0\n",
      "after 1\n",
      "before 1\n",
      "after 3\n",
      "before 3\n",
      "after 6\n",
      "before 6\n",
      "after 10\n",
      "before 10\n",
      "after 15\n",
      "before 15\n",
      "after 21\n",
      "before 21\n",
      "after 28\n",
      "before 28\n",
      "after 36\n",
      "before 36\n",
      "after 45\n",
      "45\n"
     ]
    }
   ],
   "source": [
    "S=0\n",
    "for value in range(10):\n",
    "    print(\"before\",S)\n",
    "    S=S+value\n",
    "    print(\"after\",S)\n",
    "\n",
    "print(S)"
   ]
  },
  {
   "cell_type": "code",
   "execution_count": 17,
   "id": "e80246ec-b469-4cec-84bb-1b665e25b6d9",
   "metadata": {},
   "outputs": [
    {
     "data": {
      "text/plain": [
       "45"
      ]
     },
     "execution_count": 17,
     "metadata": {},
     "output_type": "execute_result"
    }
   ],
   "source": [
    "0+1+2+3+4+5+6+7+8+9"
   ]
  },
  {
   "cell_type": "code",
   "execution_count": null,
   "id": "06e56317-e6dd-4765-b29b-5a1bb40d0340",
   "metadata": {},
   "outputs": [],
   "source": [
    "N=15\n",
    "\n",
    "# rest of this I want at the end to print out the factorial of N\n",
    "\n"
   ]
  }
 ],
 "metadata": {
  "kernelspec": {
   "display_name": "Python 3 (ipykernel)",
   "language": "python",
   "name": "python3"
  },
  "language_info": {
   "codemirror_mode": {
    "name": "ipython",
    "version": 3
   },
   "file_extension": ".py",
   "mimetype": "text/x-python",
   "name": "python",
   "nbconvert_exporter": "python",
   "pygments_lexer": "ipython3",
   "version": "3.11.5"
  }
 },
 "nbformat": 4,
 "nbformat_minor": 5
}

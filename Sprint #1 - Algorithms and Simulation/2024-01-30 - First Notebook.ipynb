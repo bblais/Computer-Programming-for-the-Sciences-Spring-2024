{
 "cells": [
  {
   "cell_type": "markdown",
   "id": "a2adbd76-ff16-465f-b01d-452b85371bcd",
   "metadata": {},
   "source": [
    "# Header\n",
    "\n",
    "## Subheading\n",
    "\n",
    "some text.\n",
    "\n",
    "### sub sub heading\n",
    "\n",
    "## another subheading\n",
    "\n",
    "I can do **bold** and *italic*.  Even equations (use LaTeX format):\n",
    "\n",
    "$$\n",
    "E=mc^2 \\times \\sqrt{\\frac{1}{1-v^2/c^2}}\n",
    "$$\n"
   ]
  },
  {
   "cell_type": "code",
   "execution_count": 1,
   "id": "df8eecfe-f043-44bf-89a9-ef5535a7006c",
   "metadata": {},
   "outputs": [],
   "source": [
    "a=5"
   ]
  },
  {
   "cell_type": "code",
   "execution_count": 2,
   "id": "4fef8754-5708-4e17-923b-2e4485a83f7d",
   "metadata": {},
   "outputs": [
    {
     "data": {
      "text/plain": [
       "5"
      ]
     },
     "execution_count": 2,
     "metadata": {},
     "output_type": "execute_result"
    }
   ],
   "source": [
    "a"
   ]
  },
  {
   "cell_type": "code",
   "execution_count": 3,
   "id": "0628e111-1645-416b-986c-2102be913464",
   "metadata": {},
   "outputs": [
    {
     "data": {
      "text/plain": [
       "15"
      ]
     },
     "execution_count": 3,
     "metadata": {},
     "output_type": "execute_result"
    }
   ],
   "source": [
    "b=10\n",
    "a+b"
   ]
  },
  {
   "cell_type": "code",
   "execution_count": 4,
   "id": "5176717c-2701-43fc-b073-06c9f31a7c9d",
   "metadata": {},
   "outputs": [
    {
     "data": {
      "text/plain": [
       "50"
      ]
     },
     "execution_count": 4,
     "metadata": {},
     "output_type": "execute_result"
    }
   ],
   "source": [
    "a*b"
   ]
  },
  {
   "cell_type": "markdown",
   "id": "d7972d6c-9836-4df8-90bd-9601c6a2829d",
   "metadata": {},
   "source": [
    "Exponents use ** not ^"
   ]
  },
  {
   "cell_type": "code",
   "execution_count": 5,
   "id": "06fa961a-e585-465d-89ed-66f45b5812ba",
   "metadata": {},
   "outputs": [
    {
     "data": {
      "text/plain": [
       "81"
      ]
     },
     "execution_count": 5,
     "metadata": {},
     "output_type": "execute_result"
    }
   ],
   "source": [
    "3**4"
   ]
  },
  {
   "cell_type": "code",
   "execution_count": 6,
   "id": "593e0a95-db44-414b-9dcd-2fa08a5b34f4",
   "metadata": {},
   "outputs": [
    {
     "data": {
      "text/plain": [
       "7"
      ]
     },
     "execution_count": 6,
     "metadata": {},
     "output_type": "execute_result"
    }
   ],
   "source": [
    "3^4  # gives a weird answer and is not an exponent"
   ]
  },
  {
   "cell_type": "code",
   "execution_count": 7,
   "id": "d5328f8f-5f2e-4e66-b0a0-0e7efb3fd6ce",
   "metadata": {},
   "outputs": [
    {
     "data": {
      "text/plain": [
       "5"
      ]
     },
     "execution_count": 7,
     "metadata": {},
     "output_type": "execute_result"
    }
   ],
   "source": [
    "a"
   ]
  },
  {
   "cell_type": "code",
   "execution_count": 8,
   "id": "d2441816-a741-40fb-b48f-6795cb72e68c",
   "metadata": {},
   "outputs": [],
   "source": [
    "a=a+1"
   ]
  },
  {
   "cell_type": "code",
   "execution_count": 9,
   "id": "8bd39e07-9f4c-4bc1-b1e4-7969896a5e17",
   "metadata": {},
   "outputs": [
    {
     "data": {
      "text/plain": [
       "6"
      ]
     },
     "execution_count": 9,
     "metadata": {},
     "output_type": "execute_result"
    }
   ],
   "source": [
    "a"
   ]
  },
  {
   "cell_type": "code",
   "execution_count": 11,
   "id": "f66627f2-45cc-4691-b767-7d56864a3d1e",
   "metadata": {},
   "outputs": [
    {
     "data": {
      "text/plain": [
       "5768"
      ]
     },
     "execution_count": 11,
     "metadata": {},
     "output_type": "execute_result"
    }
   ],
   "source": [
    "bob=56\n",
    "sally=103\n",
    "bob*sally"
   ]
  },
  {
   "cell_type": "code",
   "execution_count": 13,
   "id": "1bff0638-3911-412a-8708-f4cccc327a6f",
   "metadata": {},
   "outputs": [
    {
     "name": "stdout",
     "output_type": "stream",
     "text": [
      "here\n",
      "0\n",
      "hello\n",
      "another\n",
      "1\n",
      "hello\n",
      "another\n",
      "2\n",
      "hello\n",
      "another\n",
      "3\n",
      "hello\n",
      "another\n",
      "4\n",
      "hello\n",
      "another\n",
      "5\n",
      "hello\n",
      "another\n",
      "6\n",
      "hello\n",
      "another\n",
      "7\n",
      "hello\n",
      "another\n",
      "8\n",
      "hello\n",
      "another\n",
      "9\n",
      "hello\n",
      "another\n",
      "there\n"
     ]
    }
   ],
   "source": [
    "print(\"here\")\n",
    "for i in range(10):\n",
    "    print(i)\n",
    "    print(\"hello\")\n",
    "\n",
    "    print(\"another\")\n",
    "\n",
    "print(\"there\")"
   ]
  },
  {
   "cell_type": "code",
   "execution_count": 14,
   "id": "3cca298b-c5fe-4783-badb-eb058cb4a9de",
   "metadata": {},
   "outputs": [
    {
     "name": "stdout",
     "output_type": "stream",
     "text": [
      "here\n",
      "0 hello\n",
      "1 hello\n",
      "2 hello\n",
      "3 hello\n",
      "4 hello\n",
      "5 hello\n",
      "6 hello\n",
      "7 hello\n",
      "8 hello\n",
      "9 hello\n",
      "there\n"
     ]
    }
   ],
   "source": [
    "print(\"here\")\n",
    "for bob in range(10):\n",
    "    print(bob,\"hello\")\n",
    "\n",
    "print(\"there\")"
   ]
  },
  {
   "cell_type": "code",
   "execution_count": 16,
   "id": "8d57d0e3-c51f-4a36-aacf-9fb6253728fd",
   "metadata": {},
   "outputs": [
    {
     "name": "stdout",
     "output_type": "stream",
     "text": [
      "before 0\n",
      "after 0\n",
      "before 0\n",
      "after 1\n",
      "before 1\n",
      "after 3\n",
      "before 3\n",
      "after 6\n",
      "before 6\n",
      "after 10\n",
      "before 10\n",
      "after 15\n",
      "before 15\n",
      "after 21\n",
      "before 21\n",
      "after 28\n",
      "before 28\n",
      "after 36\n",
      "before 36\n",
      "after 45\n",
      "45\n"
     ]
    }
   ],
   "source": [
    "S=0\n",
    "for value in range(10):\n",
    "    print(\"before\",S)\n",
    "    S=S+value\n",
    "    print(\"after\",S)\n",
    "\n",
    "print(S)"
   ]
  },
  {
   "cell_type": "code",
   "execution_count": 18,
   "id": "2e68ae9b-9939-4b10-a5df-2937f7a2790e",
   "metadata": {},
   "outputs": [
    {
     "name": "stdout",
     "output_type": "stream",
     "text": [
      "45\n"
     ]
    }
   ],
   "source": [
    "S=0\n",
    "for value in range(10):\n",
    "    S=S+value\n",
    "\n",
    "print(S)"
   ]
  },
  {
   "cell_type": "code",
   "execution_count": 17,
   "id": "e80246ec-b469-4cec-84bb-1b665e25b6d9",
   "metadata": {},
   "outputs": [
    {
     "data": {
      "text/plain": [
       "45"
      ]
     },
     "execution_count": 17,
     "metadata": {},
     "output_type": "execute_result"
    }
   ],
   "source": [
    "0+1+2+3+4+5+6+7+8+9"
   ]
  },
  {
   "cell_type": "markdown",
   "id": "49fb5af6-5530-4e67-b646-801817e10bf9",
   "metadata": {},
   "source": [
    "### Wrong way #1"
   ]
  },
  {
   "cell_type": "code",
   "execution_count": 19,
   "id": "06e56317-e6dd-4765-b29b-5a1bb40d0340",
   "metadata": {},
   "outputs": [
    {
     "name": "stdout",
     "output_type": "stream",
     "text": [
      "0\n"
     ]
    }
   ],
   "source": [
    "N=15\n",
    "\n",
    "# rest of this I want at the end to print out the factorial of N\n",
    "\n",
    "total=0\n",
    "for value in range(N):\n",
    "    total=total*value\n",
    "\n",
    "print(total) "
   ]
  },
  {
   "cell_type": "markdown",
   "id": "61319e36-712d-4907-bc9b-f43043dc95b5",
   "metadata": {},
   "source": [
    "the range(N) goes from 0 to N-1"
   ]
  },
  {
   "cell_type": "markdown",
   "id": "ed19603d-ef07-416c-ae41-ebfb14c26222",
   "metadata": {},
   "source": [
    "### Wrong way #2 "
   ]
  },
  {
   "cell_type": "code",
   "execution_count": 20,
   "id": "a1718827-ec7b-43ca-a8db-9c054491a64a",
   "metadata": {},
   "outputs": [
    {
     "name": "stdout",
     "output_type": "stream",
     "text": [
      "1\n",
      "2\n",
      "3\n",
      "4\n",
      "5\n",
      "6\n",
      "7\n",
      "8\n",
      "9\n",
      "10\n",
      "11\n",
      "12\n",
      "13\n",
      "14\n",
      "15\n",
      "0\n"
     ]
    }
   ],
   "source": [
    "N=15\n",
    "\n",
    "# rest of this I want at the end to print out the factorial of N\n",
    "\n",
    "total=0\n",
    "for value in range(1,N+1):\n",
    "    print(value)\n",
    "    total=total*value\n",
    "\n",
    "print(total) "
   ]
  },
  {
   "cell_type": "code",
   "execution_count": 21,
   "id": "d8ac7307-70b3-4371-8507-4a875b013a74",
   "metadata": {},
   "outputs": [
    {
     "name": "stdout",
     "output_type": "stream",
     "text": [
      "0\n",
      "1\n",
      "2\n",
      "3\n",
      "4\n",
      "5\n",
      "6\n",
      "7\n",
      "8\n",
      "9\n",
      "10\n",
      "11\n",
      "12\n",
      "13\n",
      "14\n",
      "0\n"
     ]
    }
   ],
   "source": [
    "N=15\n",
    "\n",
    "# rest of this I want at the end to print out the factorial of N\n",
    "\n",
    "total=0\n",
    "for value in range(N):\n",
    "    print(value)\n",
    "    total=total*(value+1)\n",
    "\n",
    "print(total) "
   ]
  },
  {
   "cell_type": "markdown",
   "id": "eefe35aa-8681-457e-a3c5-37bc78acc0df",
   "metadata": {},
   "source": [
    "### hopefully correct"
   ]
  },
  {
   "cell_type": "code",
   "execution_count": 23,
   "id": "7cd7cbe7-ba8c-43f7-9d7c-f1518b81dc6f",
   "metadata": {},
   "outputs": [
    {
     "name": "stdout",
     "output_type": "stream",
     "text": [
      "1307674368000\n"
     ]
    }
   ],
   "source": [
    "N=15\n",
    "\n",
    "# rest of this I want at the end to print out the factorial of N\n",
    "\n",
    "total=1\n",
    "for value in range(N):\n",
    "    total=total*(value+1)\n",
    "\n",
    "print(total) "
   ]
  },
  {
   "cell_type": "code",
   "execution_count": 24,
   "id": "740da1c5-0455-4e98-a164-7ee2faf409fd",
   "metadata": {},
   "outputs": [],
   "source": [
    "def factorial(N):\n",
    "    total=1\n",
    "    for value in range(N):\n",
    "        total=total*(value+1)\n",
    "\n",
    "    return total"
   ]
  },
  {
   "cell_type": "code",
   "execution_count": 25,
   "id": "692d1156-9a06-429d-8727-c9aff71bfc96",
   "metadata": {},
   "outputs": [],
   "source": [
    "a=factorial(5)"
   ]
  },
  {
   "cell_type": "code",
   "execution_count": 26,
   "id": "a565ae97-59cd-414c-88c1-341b5de104c7",
   "metadata": {},
   "outputs": [
    {
     "name": "stdout",
     "output_type": "stream",
     "text": [
      "120\n"
     ]
    }
   ],
   "source": [
    "print(a)"
   ]
  },
  {
   "cell_type": "markdown",
   "id": "93a8f5ce-9d84-437e-9155-617977ccb140",
   "metadata": {},
   "source": [
    "Our friend Pythagoras:\n",
    "\n",
    "$$\n",
    "a^2 + b^2 = c^2\n",
    "$$\n",
    "\n",
    "which means\n",
    "\n",
    "$$\n",
    "c=\\sqrt{a^2 + b^2}\n",
    "$$"
   ]
  },
  {
   "cell_type": "code",
   "execution_count": 27,
   "id": "82974e63-22cd-4c8a-8919-9f7cc3ccc966",
   "metadata": {},
   "outputs": [
    {
     "ename": "NameError",
     "evalue": "name 'sqrt' is not defined",
     "output_type": "error",
     "traceback": [
      "\u001b[0;31m---------------------------------------------------------------------------\u001b[0m",
      "\u001b[0;31mNameError\u001b[0m                                 Traceback (most recent call last)",
      "Cell \u001b[0;32mIn[27], line 3\u001b[0m\n\u001b[1;32m      1\u001b[0m a\u001b[38;5;241m=\u001b[39m\u001b[38;5;241m5\u001b[39m\n\u001b[1;32m      2\u001b[0m b\u001b[38;5;241m=\u001b[39m\u001b[38;5;241m8\u001b[39m\n\u001b[0;32m----> 3\u001b[0m c\u001b[38;5;241m=\u001b[39msqrt(a\u001b[38;5;241m*\u001b[39m\u001b[38;5;241m*\u001b[39m\u001b[38;5;241m2\u001b[39m\u001b[38;5;241m+\u001b[39mb\u001b[38;5;241m*\u001b[39m\u001b[38;5;241m*\u001b[39m\u001b[38;5;241m2\u001b[39m)\n",
      "\u001b[0;31mNameError\u001b[0m: name 'sqrt' is not defined"
     ]
    }
   ],
   "source": [
    "a=5\n",
    "b=8\n",
    "c=sqrt(a**2+b**2)"
   ]
  },
  {
   "cell_type": "code",
   "execution_count": 28,
   "id": "98e47f5b-7b89-4f9c-b9d7-afef44720629",
   "metadata": {},
   "outputs": [],
   "source": [
    "from numpy import sqrt"
   ]
  },
  {
   "cell_type": "code",
   "execution_count": 29,
   "id": "80c67392-69d3-49ff-bd0c-08073b4a0a76",
   "metadata": {},
   "outputs": [],
   "source": [
    "a=5\n",
    "b=8\n",
    "c=sqrt(a**2+b**2)"
   ]
  },
  {
   "cell_type": "code",
   "execution_count": 30,
   "id": "f62df077-2453-42ff-83f1-157d30296a52",
   "metadata": {},
   "outputs": [
    {
     "name": "stdout",
     "output_type": "stream",
     "text": [
      "9.433981132056603\n"
     ]
    }
   ],
   "source": [
    "print(c)"
   ]
  },
  {
   "cell_type": "code",
   "execution_count": null,
   "id": "85399f56-8365-48b8-bd77-169b117a4f15",
   "metadata": {},
   "outputs": [],
   "source": []
  }
 ],
 "metadata": {
  "kernelspec": {
   "display_name": "Python 3 (ipykernel)",
   "language": "python",
   "name": "python3"
  },
  "language_info": {
   "codemirror_mode": {
    "name": "ipython",
    "version": 3
   },
   "file_extension": ".py",
   "mimetype": "text/x-python",
   "name": "python",
   "nbconvert_exporter": "python",
   "pygments_lexer": "ipython3",
   "version": "3.11.5"
  }
 },
 "nbformat": 4,
 "nbformat_minor": 5
}

{
 "cells": [
  {
   "cell_type": "code",
   "execution_count": 3,
   "id": "5d1d81fb-0060-4c1c-a6cf-882cde569a3b",
   "metadata": {},
   "outputs": [
    {
     "name": "stdout",
     "output_type": "stream",
     "text": [
      "Collecting git+https://github.com/bblais/sci378\n",
      "  Cloning https://github.com/bblais/sci378 to /Users/bblais/tmp/pip-req-build-tsfr2d6q\n",
      "  Running command git clone --filter=blob:none --quiet https://github.com/bblais/sci378 /Users/bblais/tmp/pip-req-build-tsfr2d6q\n",
      "  Resolved https://github.com/bblais/sci378 to commit b9c9309c3a2818d5f110936ac62786e60e5dc7cc\n",
      "  Preparing metadata (setup.py) ... \u001b[?25ldone\n",
      "\u001b[?25hRequirement already satisfied: matplotlib in /Users/bblais/opt/anaconda3/lib/python3.9/site-packages (from sci378==0.0.25) (3.5.2)\n",
      "Requirement already satisfied: pandas in /Users/bblais/opt/anaconda3/lib/python3.9/site-packages (from sci378==0.0.25) (1.4.4)\n",
      "Requirement already satisfied: packaging>=20.0 in /Users/bblais/opt/anaconda3/lib/python3.9/site-packages (from matplotlib->sci378==0.0.25) (21.3)\n",
      "Requirement already satisfied: pyparsing>=2.2.1 in /Users/bblais/opt/anaconda3/lib/python3.9/site-packages (from matplotlib->sci378==0.0.25) (3.0.9)\n",
      "Requirement already satisfied: cycler>=0.10 in /Users/bblais/opt/anaconda3/lib/python3.9/site-packages (from matplotlib->sci378==0.0.25) (0.11.0)\n",
      "Requirement already satisfied: pillow>=6.2.0 in /Users/bblais/opt/anaconda3/lib/python3.9/site-packages (from matplotlib->sci378==0.0.25) (9.2.0)\n",
      "Requirement already satisfied: numpy>=1.17 in /Users/bblais/opt/anaconda3/lib/python3.9/site-packages (from matplotlib->sci378==0.0.25) (1.23.5)\n",
      "Requirement already satisfied: kiwisolver>=1.0.1 in /Users/bblais/opt/anaconda3/lib/python3.9/site-packages (from matplotlib->sci378==0.0.25) (1.4.2)\n",
      "Requirement already satisfied: python-dateutil>=2.7 in /Users/bblais/opt/anaconda3/lib/python3.9/site-packages (from matplotlib->sci378==0.0.25) (2.8.2)\n",
      "Requirement already satisfied: fonttools>=4.22.0 in /Users/bblais/opt/anaconda3/lib/python3.9/site-packages (from matplotlib->sci378==0.0.25) (4.25.0)\n",
      "Requirement already satisfied: pytz>=2020.1 in /Users/bblais/opt/anaconda3/lib/python3.9/site-packages (from pandas->sci378==0.0.25) (2022.1)\n",
      "Requirement already satisfied: six>=1.5 in /Users/bblais/opt/anaconda3/lib/python3.9/site-packages (from python-dateutil>=2.7->matplotlib->sci378==0.0.25) (1.16.0)\n",
      "Note: you may need to restart the kernel to use updated packages.\n"
     ]
    }
   ],
   "source": [
    "pip install \"git+https://github.com/bblais/sci378\" --upgrade"
   ]
  },
  {
   "cell_type": "code",
   "execution_count": null,
   "id": "1ea08623-94c4-4205-815a-852265adad86",
   "metadata": {},
   "outputs": [],
   "source": []
  }
 ],
 "metadata": {
  "kernelspec": {
   "display_name": "Python 3 (ipykernel)",
   "language": "python",
   "name": "python3"
  },
  "language_info": {
   "codemirror_mode": {
    "name": "ipython",
    "version": 3
   },
   "file_extension": ".py",
   "mimetype": "text/x-python",
   "name": "python",
   "nbconvert_exporter": "python",
   "pygments_lexer": "ipython3",
   "version": "3.9.13"
  }
 },
 "nbformat": 4,
 "nbformat_minor": 5
}

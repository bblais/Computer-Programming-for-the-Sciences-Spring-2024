{
 "cells": [
  {
   "cell_type": "code",
   "execution_count": null,
   "id": "076af272-916a-43c7-aa6d-2185d7fa9232",
   "metadata": {},
   "outputs": [],
   "source": [
    "from ucimlrepo import fetch_ucirepo \n",
    "  \n",
    "# fetch dataset \n",
    "chronic_kidney_disease = fetch_ucirepo(id=336) \n",
    "  \n",
    "# data (as pandas dataframes) \n",
    "X = chronic_kidney_disease.data.features \n",
    "y = chronic_kidney_disease.data.targets \n",
    "  "
   ]
  },
  {
   "cell_type": "code",
   "execution_count": null,
   "id": "d0f1deaf-781f-4c38-aa02-ebb60fda8363",
   "metadata": {},
   "outputs": [],
   "source": [
    "from numpy import array"
   ]
  },
  {
   "cell_type": "code",
   "execution_count": null,
   "id": "8486b0be-e407-491f-9093-0b8b6f16a6d4",
   "metadata": {},
   "outputs": [
    {
     "data": {
      "text/html": [
       "<div>\n",
       "<style scoped>\n",
       "    .dataframe tbody tr th:only-of-type {\n",
       "        vertical-align: middle;\n",
       "    }\n",
       "\n",
       "    .dataframe tbody tr th {\n",
       "        vertical-align: top;\n",
       "    }\n",
       "\n",
       "    .dataframe thead th {\n",
       "        text-align: right;\n",
       "    }\n",
       "</style>\n",
       "<table border=\"1\" class=\"dataframe\">\n",
       "  <thead>\n",
       "    <tr style=\"text-align: right;\">\n",
       "      <th></th>\n",
       "      <th>class</th>\n",
       "    </tr>\n",
       "  </thead>\n",
       "  <tbody>\n",
       "    <tr>\n",
       "      <th>0</th>\n",
       "      <td>ckd</td>\n",
       "    </tr>\n",
       "    <tr>\n",
       "      <th>1</th>\n",
       "      <td>ckd</td>\n",
       "    </tr>\n",
       "    <tr>\n",
       "      <th>2</th>\n",
       "      <td>ckd</td>\n",
       "    </tr>\n",
       "    <tr>\n",
       "      <th>3</th>\n",
       "      <td>ckd</td>\n",
       "    </tr>\n",
       "    <tr>\n",
       "      <th>4</th>\n",
       "      <td>ckd</td>\n",
       "    </tr>\n",
       "    <tr>\n",
       "      <th>...</th>\n",
       "      <td>...</td>\n",
       "    </tr>\n",
       "    <tr>\n",
       "      <th>395</th>\n",
       "      <td>notckd</td>\n",
       "    </tr>\n",
       "    <tr>\n",
       "      <th>396</th>\n",
       "      <td>notckd</td>\n",
       "    </tr>\n",
       "    <tr>\n",
       "      <th>397</th>\n",
       "      <td>notckd</td>\n",
       "    </tr>\n",
       "    <tr>\n",
       "      <th>398</th>\n",
       "      <td>notckd</td>\n",
       "    </tr>\n",
       "    <tr>\n",
       "      <th>399</th>\n",
       "      <td>notckd</td>\n",
       "    </tr>\n",
       "  </tbody>\n",
       "</table>\n",
       "<p>400 rows × 1 columns</p>\n",
       "</div>"
      ],
      "text/plain": [
       "      class\n",
       "0       ckd\n",
       "1       ckd\n",
       "2       ckd\n",
       "3       ckd\n",
       "4       ckd\n",
       "..      ...\n",
       "395  notckd\n",
       "396  notckd\n",
       "397  notckd\n",
       "398  notckd\n",
       "399  notckd\n",
       "\n",
       "[400 rows x 1 columns]"
      ]
     },
     "execution_count": null,
     "metadata": {},
     "output_type": "execute_result"
    }
   ],
   "source": [
    "y"
   ]
  },
  {
   "cell_type": "code",
   "execution_count": null,
   "id": "95313ad3-9aa8-42fb-8058-c4261f1f6070",
   "metadata": {},
   "outputs": [
    {
     "data": {
      "text/plain": [
       "Index(['age', 'bp', 'sg', 'al', 'su', 'rbc', 'pc', 'pcc', 'ba', 'bgr', 'bu',\n",
       "       'sc', 'sod', 'pot', 'hemo', 'pcv', 'wbcc', 'rbcc', 'htn', 'dm', 'cad',\n",
       "       'appet', 'pe', 'ane'],\n",
       "      dtype='object')"
      ]
     },
     "execution_count": null,
     "metadata": {},
     "output_type": "execute_result"
    }
   ],
   "source": [
    "X.columns"
   ]
  },
  {
   "cell_type": "code",
   "execution_count": null,
   "id": "bdc3facb-8c6d-445b-a9ee-459d13d91954",
   "metadata": {},
   "outputs": [
    {
     "data": {
      "text/plain": [
       "array([111. , 142. , 104. , 114. , 131. , 138. , 135. , 130. , 141. ,\n",
       "       138. , 139. , 135. , 135. ,   4.5, 136. , 129. , 141. , 140. ,\n",
       "       130. , 132. , 141. , 133. , 133. , 132. , 136. , 139. , 134. ,\n",
       "       134. , 130. , 142. , 125. , 142. , 136. , 136. , 131. , 132. ,\n",
       "       138. , 138. , 163. , 138. , 131. , 131. , 137. , 141. , 132. ,\n",
       "       131. , 138. , 132. , 137. , 141. , 133. , 128. , 140. , 134. ,\n",
       "       135. , 139. , 143. , 136. , 133. , 140. , 137. , 131. , 132. ,\n",
       "       135. , 139. , 133. , 139. , 141. , 139. , 127. , 139. , 141. ,\n",
       "       142. , 128. , 139. , 137. , 137. , 130. , 131. , 136. , 136. ,\n",
       "       133. , 135. , 134. , 136. , 136. , 138. , 140. , 146. , 134. ,\n",
       "       142. , 132. , 142. , 137. , 135. , 135. , 136. , 126. , 139. ,\n",
       "       130. , 141. , 133. , 132. , 140. , 136. , 132. , 122. , 147. ,\n",
       "       124. , 140. , 137. , 127. , 131. , 115. , 130. , 145. , 141. ,\n",
       "       113. , 125. , 139. , 136. , 140. , 135. , 133. , 138. , 135. ,\n",
       "       142. , 137. , 135. , 134. , 113. , 138. , 122. , 124. , 137. ,\n",
       "       140. , 140. , 137. , 135. , 142. , 145. , 135. , 135. , 132. ,\n",
       "       137. , 141. , 138. , 136. , 138. , 131. , 140. , 114. , 138. ,\n",
       "       146. , 136. , 127. , 137. , 140. , 120. , 138. , 135. , 135. ,\n",
       "       120. , 140. , 138. , 124. ])"
      ]
     },
     "execution_count": null,
     "metadata": {},
     "output_type": "execute_result"
    }
   ],
   "source": [
    "array(X[y['class'] == 'ckd']['sod'].dropna())"
   ]
  },
  {
   "cell_type": "code",
   "execution_count": null,
   "id": "27931cfd-4f03-4d88-aa1a-0c60b37f4039",
   "metadata": {},
   "outputs": [
    {
     "data": {
      "text/plain": [
       "array([135., 150., 147., 135., 135., 144., 146., 135., 140., 135., 147.,\n",
       "       139., 135., 137., 140., 150., 135., 146., 140., 142., 145., 144.,\n",
       "       135., 140., 141., 139., 137., 135., 142., 140., 144., 147., 135.,\n",
       "       142., 135., 145., 137., 135., 143., 146., 140., 139., 150., 135.,\n",
       "       150., 140., 146., 135., 150., 141., 147., 145., 135., 138., 140.,\n",
       "       150., 135., 139., 142., 147., 135., 142., 145., 135., 139., 137.,\n",
       "       135., 150., 144., 140., 143., 150., 140., 141., 150., 145., 146.,\n",
       "       135., 147., 150., 142., 136., 139., 141., 147., 136., 142., 150.,\n",
       "       138., 135., 150., 138., 141., 144., 147., 150., 142., 139., 141.,\n",
       "       150., 147., 145., 144., 140., 138., 147., 135., 138., 144., 137.,\n",
       "       145., 141., 139., 146., 144., 139., 145., 150., 142., 146., 143.,\n",
       "       147., 145., 140., 138., 139., 142., 137., 141., 150., 146., 142.,\n",
       "       136., 144., 140., 135., 142., 147., 141., 139., 150., 141., 137.,\n",
       "       135., 141.])"
      ]
     },
     "execution_count": null,
     "metadata": {},
     "output_type": "execute_result"
    }
   ],
   "source": [
    "array(X[y['class'] == 'notckd']['sod'].dropna())"
   ]
  },
  {
   "cell_type": "code",
   "execution_count": null,
   "id": "f5f1f085-e9cd-450e-aba6-9c483b8e51f5",
   "metadata": {},
   "outputs": [],
   "source": []
  }
 ],
 "metadata": {
  "kernelspec": {
   "display_name": "python3",
   "language": "python",
   "name": "python3"
  }
 },
 "nbformat": 4,
 "nbformat_minor": 5
}

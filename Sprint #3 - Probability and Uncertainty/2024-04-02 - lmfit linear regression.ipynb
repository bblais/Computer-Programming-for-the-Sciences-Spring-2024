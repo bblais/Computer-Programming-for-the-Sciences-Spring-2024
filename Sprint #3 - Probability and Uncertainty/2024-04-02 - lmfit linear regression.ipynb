{
 "cells": [
  {
   "cell_type": "code",
   "execution_count": null,
   "id": "def15fd4-54e3-4875-98f0-246dc3eff645",
   "metadata": {},
   "outputs": [
    {
     "name": "stdout",
     "output_type": "stream",
     "text": [
      "Version:  0.0.37\n"
     ]
    }
   ],
   "source": [
    "%matplotlib inline\n",
    "from pylab import *\n",
    "from sci378 import *\n",
    "from sci378.stats import *"
   ]
  },
  {
   "cell_type": "code",
   "execution_count": null,
   "id": "82201b85-80e1-4065-b4cf-2f10001dc655",
   "metadata": {},
   "outputs": [],
   "source": [
    "from lmfit import Model,Parameter"
   ]
  },
  {
   "cell_type": "code",
   "execution_count": null,
   "id": "9ed243a0-53cc-4ab4-b39b-04c6ada6abc9",
   "metadata": {},
   "outputs": [
    {
     "data": {
      "text/plain": [
       "[<matplotlib.lines.Line2D>]"
      ]
     },
     "execution_count": null,
     "metadata": {},
     "output_type": "execute_result"
    },
    {
     "data": {
      "image/png": "[encoded data removed]",
      "text/plain": [
       "<Figure size 800x300 with 1 Axes>"
      ]
     },
     "metadata": {},
     "output_type": "display_data"
    }
   ],
   "source": [
    "data=pd.read_csv('data/dog_mass.csv')\n",
    "t_data=data['days'].values[:12]\n",
    "y_data=data['mass'].values[:12]\n",
    "\n",
    "figure(figsize=(8,3))\n",
    "plot(t_data, y_data, 'o')"
   ]
  },
  {
   "cell_type": "code",
   "execution_count": null,
   "id": "43a3e66c-8552-4e0b-b98b-eca40da881cb",
   "metadata": {},
   "outputs": [],
   "source": [
    "def linear(x,m=1,b=1):\n",
    "    return m*x+b"
   ]
  },
  {
   "cell_type": "code",
   "execution_count": null,
   "id": "0e91c831-d31a-4c40-9589-979039ea833a",
   "metadata": {},
   "outputs": [
    {
     "data": {
      "text/html": [
       "<table class=\"jp-toc-ignore\"><caption>Parameters</caption><tr><th style='text-align:left'>name</th><th style='text-align:left'>value</th><th style='text-align:left'>initial value</th><th style='text-align:left'>min</th><th style='text-align:left'>max</th><th style='text-align:right'>vary</th></tr><tr><td style='text-align:left'>m</td><td style='text-align:left'> 0.50000000</td><td style='text-align:left'>0.5</td><td style='text-align:left'> 0.00000000</td><td style='text-align:left'>        inf</td><td style='text-align:right'>True</td></tr><tr><td style='text-align:left'>b</td><td style='text-align:left'> 1.00000000</td><td style='text-align:left'>None</td><td style='text-align:left'>       -inf</td><td style='text-align:left'>        inf</td><td style='text-align:right'>True</td></tr></table>"
      ],
      "text/plain": [
       "Parameters([('m', <Parameter 'm', value=0.5, bounds=[0:inf]>), ('b', <Parameter 'b', value=1, bounds=[-inf:inf]>)])"
      ]
     },
     "execution_count": null,
     "metadata": {},
     "output_type": "execute_result"
    }
   ],
   "source": [
    "mymodel=linear_model=Model(linear)  # from lmfit  # make sure to call it mymodel\n",
    "params=mymodel.make_params()\n",
    "params['m']=Parameter(\"m\",min=0,value=0.5)\n",
    "params"
   ]
  },
  {
   "cell_type": "code",
   "execution_count": null,
   "id": "22ab9953-31f7-43cb-99dd-f8815e530377",
   "metadata": {},
   "outputs": [
    {
     "data": {
      "text/html": [
       "<h2>Fit Result</h2> <p>Model: Model(linear)</p> <table class=\"jp-toc-ignore\"><caption class=\"jp-toc-ignore\">Fit Statistics</caption><tr><td style='text-align:left'>fitting method</td><td style='text-align:right'>leastsq</td></tr><tr><td style='text-align:left'># function evals</td><td style='text-align:right'>13</td></tr><tr><td style='text-align:left'># data points</td><td style='text-align:right'>12</td></tr><tr><td style='text-align:left'># variables</td><td style='text-align:right'>2</td></tr><tr><td style='text-align:left'>chi-square</td><td style='text-align:right'> 25.6587174</td></tr><tr><td style='text-align:left'>reduced chi-square</td><td style='text-align:right'> 2.56587174</td></tr><tr><td style='text-align:left'>Akaike info crit.</td><td style='text-align:right'> 13.1197207</td></tr><tr><td style='text-align:left'>Bayesian info crit.</td><td style='text-align:right'> 14.0895340</td></tr><tr><td style='text-align:left'>R-squared</td><td style='text-align:right'> 0.98853800</td></tr></table><table class=\"jp-toc-ignore\"><caption>Parameters</caption><tr><th style='text-align:left'>name</th><th style='text-align:left'>value</th><th style='text-align:left'>standard error</th><th style='text-align:left'>relative error</th><th style='text-align:left'>initial value</th><th style='text-align:left'>min</th><th style='text-align:left'>max</th><th style='text-align:right'>vary</th></tr><tr><td style='text-align:left'>m</td><td style='text-align:left'> 0.28314474</td><td style='text-align:left'> 0.00964141</td><td style='text-align:left'>(3.41%)</td><td style='text-align:left'>0.5</td><td style='text-align:left'> 0.00000000</td><td style='text-align:left'>        inf</td><td style='text-align:right'>True</td></tr><tr><td style='text-align:left'>b</td><td style='text-align:left'>-4.74239566</td><td style='text-align:left'> 1.25790326</td><td style='text-align:left'>(26.52%)</td><td style='text-align:left'>1</td><td style='text-align:left'>       -inf</td><td style='text-align:left'>        inf</td><td style='text-align:right'>True</td></tr></table><table class=\"jp-toc-ignore\"><caption>Correlations (unreported values are < 0.100)</caption><tr><th style='text-align:left'>Parameter1</th><th style='text-align:left'>Parameter 2</th><th style='text-align:right'>Correlation</th></tr><tr><td style='text-align:left'>m</td><td style='text-align:left'>b</td><td style='text-align:right'>-0.9300</td></tr></table>"
      ],
      "text/plain": [
       "<lmfit.model.ModelResult>"
      ]
     },
     "execution_count": null,
     "metadata": {},
     "output_type": "execute_result"
    }
   ],
   "source": [
    "result=mymodel.fit(y_data,params,x=t_data)\n",
    "result"
   ]
  },
  {
   "cell_type": "code",
   "execution_count": null,
   "id": "a843588f-8e14-4c98-a8bc-8f438f31efcd",
   "metadata": {},
   "outputs": [],
   "source": []
  }
 ],
 "metadata": {
  "kernelspec": {
   "display_name": "python3",
   "language": "python",
   "name": "python3"
  }
 },
 "nbformat": 4,
 "nbformat_minor": 5
}

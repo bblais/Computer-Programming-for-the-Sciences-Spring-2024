{
 "cells": [
  {
   "cell_type": "code",
   "execution_count": null,
   "id": "83f8d003-560a-4d01-ad03-7ddeba60c9d3",
   "metadata": {},
   "outputs": [
    {
     "name": "stdout",
     "output_type": "stream",
     "text": [
      "Version:  0.0.36\n"
     ]
    }
   ],
   "source": [
    "%matplotlib inline\n",
    "from pylab import *\n",
    "from sci378.stats import *"
   ]
  },
  {
   "cell_type": "markdown",
   "id": "2b073f3e-93f2-4e7b-8202-67866fafeef9",
   "metadata": {},
   "source": [
    "`pip install \"git+https://github.com/bblais/sci378\" --upgrade`\n",
    "\n",
    "\n",
    "`pip install pyndamics3 --upgrade`"
   ]
  },
  {
   "cell_type": "code",
   "execution_count": null,
   "id": "52999219-da04-4826-ac8c-e34b642f2acb",
   "metadata": {},
   "outputs": [],
   "source": []
  }
 ],
 "metadata": {
  "kernelspec": {
   "display_name": "python3",
   "language": "python",
   "name": "python3"
  }
 },
 "nbformat": 4,
 "nbformat_minor": 5
}

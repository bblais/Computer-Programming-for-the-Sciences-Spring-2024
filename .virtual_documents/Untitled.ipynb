%matplotlib inline
from pylab import *


a=linspace(-5,5,21)
a


a=linspace(-5,5,27)
a


a=linspace(-5,5,21)
2*a


x=linspace(-5,5,21)
y=2*x-3
plot(x,y)

y=2*x**2-2*x+3
plot(x,y)



x=linspace(-5,5,11)
y=2*x-3
plot(x,y,'-o')

y=2*x**2-2*x+3
plot(x,y,'-x')




